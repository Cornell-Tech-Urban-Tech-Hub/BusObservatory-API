{
 "cells": [
  {
   "cell_type": "code",
   "execution_count": null,
   "id": "0a6ea79d-2e1c-486e-a171-314bdea97048",
   "metadata": {},
   "outputs": [],
   "source": [
    "import pandas as pd\n",
    "import requests\n",
    "from datetime import datetime\n",
    "\n",
    "def get_buses(system_id, route, start, end):\n",
    "\n",
    "    df = pd.DataFrame()\n",
    "\n",
    "    times = pd.date_range(start=pd.Timestamp(start), end=pd.Timestamp(end), freq='1H').to_pydatetime().tolist()\n",
    "    \n",
    "    for t in times:\n",
    "        print(t)\n",
    "        url=f\"https://api.buswatcher.org/buses/bulk/{system_id}/{route}/{t.year}/{t.month}/{t.day}/{t.hour}\"\n",
    "        print(url)\n",
    "        r = requests.get(url).json()\n",
    "        print(r['query'])\n",
    "        newdata = pd.DataFrame.from_dict(r['result'])\n",
    "        df = pd.concat([df, newdata], ignore_index=True, sort=False)        \n",
    "    return df"
   ]
  },
  {
   "cell_type": "code",
   "execution_count": null,
   "id": "cb9ad910-6571-4a64-ac68-43b353ac502d",
   "metadata": {},
   "outputs": [],
   "source": [
    "get_buses(\"nyct_mta_bus_siri\", \n",
    "          \"M1\", \n",
    "          \"2022-07-04T00:00:00\", \n",
    "          \"2022-07-04T03:00:00\"\n",
    "         )"
   ]
  },
  {
   "cell_type": "raw",
   "id": "be5741df-e96a-41bc-a1dc-07a9f183e1c0",
   "metadata": {},
   "source": [
    "2022-07-22 03:00:00\n",
    "https://api.buswatcher.org/buses/bulk/nyct_mta_bus_siri/M1/2022/7/22/3\n",
    "{'system_id': 'nyct_mta_bus_siri', 'route': 'M1', 'start (gte)': '2022-07-22T03:00:00', 'end (lt)': '2022-07-22T04:00:00'}\n",
    "Traceback (most recent call last):\n",
    "  File \"/Users/anthonytownsend/Downloads/test.py\", line 26, in <module>\n",
    "    get_buses(\n",
    "  File \"/opt/bin/mambaforge/envs/bigdata/lib/python3.9/site-packages/pandas/util/_decorators.py\", line 199, in wrapper\n",
    "    return func(*args, **kwargs)\n",
    "  File \"/opt/bin/mambaforge/envs/bigdata/lib/python3.9/site-packages/pandas/core/frame.py\", line 2365, in to_parquet\n",
    "    to_parquet(\n",
    "  File \"/opt/bin/mambaforge/envs/bigdata/lib/python3.9/site-packages/pandas/io/parquet.py\", line 270, in to_parquet\n",
    "    return impl.write(\n",
    "  File \"/opt/bin/mambaforge/envs/bigdata/lib/python3.9/site-packages/pandas/io/parquet.py\", line 101, in write\n",
    "    table = self.api.Table.from_pandas(df, **from_pandas_kwargs)\n",
    "  File \"pyarrow/table.pxi\", line 1650, in pyarrow.lib.Table.from_pandas\n",
    "  File \"/opt/bin/mambaforge/envs/bigdata/lib/python3.9/site-packages/pyarrow/pandas_compat.py\", line 607, in dataframe_to_arrays\n",
    "    arrays[i] = maybe_fut.result()\n",
    "  File \"/opt/bin/mambaforge/envs/bigdata/lib/python3.9/concurrent/futures/_base.py\", line 438, in result\n",
    "    return self.__get_result()\n",
    "  File \"/opt/bin/mambaforge/envs/bigdata/lib/python3.9/concurrent/futures/_base.py\", line 390, in __get_result\n",
    "    raise self._exception\n",
    "  File \"/opt/bin/mambaforge/envs/bigdata/lib/python3.9/concurrent/futures/thread.py\", line 52, in run\n",
    "    result = self.fn(*self.args, **self.kwargs)\n",
    "  File \"/opt/bin/mambaforge/envs/bigdata/lib/python3.9/site-packages/pyarrow/pandas_compat.py\", line 581, in convert_column\n",
    "    raise e\n",
    "  File \"/opt/bin/mambaforge/envs/bigdata/lib/python3.9/site-packages/pyarrow/pandas_compat.py\", line 575, in convert_column\n",
    "    result = pa.array(col, type=type_, from_pandas=True, safe=safe)\n",
    "  File \"pyarrow/array.pxi\", line 311, in pyarrow.lib.array\n",
    "  File \"pyarrow/array.pxi\", line 83, in pyarrow.lib._ndarray_to_array\n",
    "  File \"pyarrow/error.pxi\", line 99, in pyarrow.lib.check_status\n",
    "pyarrow.lib.ArrowInvalid: (\"Could not convert '' with type str: tried to convert to double\", 'Conversion failed for column next_stop_d_along_route with type object')"
   ]
  }
 ],
 "metadata": {
  "kernelspec": {
   "display_name": "Python [conda env:bigdata]",
   "language": "python",
   "name": "conda-env-bigdata-py"
  },
  "language_info": {
   "codemirror_mode": {
    "name": "ipython",
    "version": 3
   },
   "file_extension": ".py",
   "mimetype": "text/x-python",
   "name": "python",
   "nbconvert_exporter": "python",
   "pygments_lexer": "ipython3",
   "version": "3.9.5"
  }
 },
 "nbformat": 4,
 "nbformat_minor": 5
}
