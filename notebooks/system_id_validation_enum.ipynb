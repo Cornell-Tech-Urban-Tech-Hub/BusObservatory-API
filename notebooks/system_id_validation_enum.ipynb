{
 "cells": [
  {
   "cell_type": "code",
   "execution_count": 1,
   "id": "1182d7e8-b83e-4ea6-823f-6c73a92d3b64",
   "metadata": {},
   "outputs": [],
   "source": [
    "import boto3\n",
    "import json\n",
    "import collections\n",
    "\n",
    "# load system config from s3\n",
    "def get_config():\n",
    "    # aws -- these can be hardcoded\n",
    "    region=\"us-east-1\"\n",
    "    bucket=\"busobservatory\"\n",
    "    config_object_key = \"_bus_observatory_config.json\" \n",
    "    s3 = boto3.resource(\"s3\")\n",
    "    obj = s3.Object(bucket, config_object_key)\n",
    "    configdata = json.load(obj.get()['Body'])\n",
    "    sorted_configdata = collections.OrderedDict(sorted(configdata.items()))\n",
    "    return sorted_configdata"
   ]
  },
  {
   "cell_type": "code",
   "execution_count": 2,
   "id": "bd074950-d80a-405b-99d4-12e6395f36ce",
   "metadata": {},
   "outputs": [],
   "source": [
    "from enum import Enum"
   ]
  },
  {
   "cell_type": "code",
   "execution_count": 3,
   "id": "f699ed9f-f745-4b8f-96bb-4662d4ad0add",
   "metadata": {},
   "outputs": [
    {
     "data": {
      "text/plain": [
       "4"
      ]
     },
     "execution_count": 3,
     "metadata": {},
     "output_type": "execute_result"
    }
   ],
   "source": [
    "config = get_config()\n",
    "len(config)"
   ]
  },
  {
   "cell_type": "code",
   "execution_count": 4,
   "id": "430d8041-e21e-45e0-b0e8-3c0a8f70eb81",
   "metadata": {},
   "outputs": [
    {
     "data": {
      "text/plain": [
       "{'TEST_njtransit_bus': 'TEST_njtransit_bus',\n",
       " 'TEST_nyct_mta_bus_gtfsrt': 'TEST_nyct_mta_bus_gtfsrt',\n",
       " 'TEST_nyct_mta_bus_siri': 'TEST_nyct_mta_bus_siri',\n",
       " 'TEST_tfnsw_buses': 'TEST_tfnsw_buses'}"
      ]
     },
     "execution_count": 4,
     "metadata": {},
     "output_type": "execute_result"
    }
   ],
   "source": [
    "{k:k for (k,v) in config.items()}"
   ]
  },
  {
   "cell_type": "code",
   "execution_count": 5,
   "id": "7fa4f76a-742e-4968-81d1-858e3d5fcc63",
   "metadata": {},
   "outputs": [],
   "source": [
    "system_id_enumeration = Enum('system_ids', {k:k for (k,v) in get_config().items()} )"
   ]
  },
  {
   "cell_type": "code",
   "execution_count": 6,
   "id": "72841070-8646-454d-b810-05905e4ee0c1",
   "metadata": {},
   "outputs": [
    {
     "data": {
      "text/plain": [
       "[<system_ids.TEST_njtransit_bus: 'TEST_njtransit_bus'>,\n",
       " <system_ids.TEST_nyct_mta_bus_gtfsrt: 'TEST_nyct_mta_bus_gtfsrt'>,\n",
       " <system_ids.TEST_nyct_mta_bus_siri: 'TEST_nyct_mta_bus_siri'>,\n",
       " <system_ids.TEST_tfnsw_buses: 'TEST_tfnsw_buses'>]"
      ]
     },
     "execution_count": 6,
     "metadata": {},
     "output_type": "execute_result"
    }
   ],
   "source": [
    "list(system_id_enumeration)"
   ]
  },
  {
   "cell_type": "code",
   "execution_count": null,
   "id": "a02cbd70-7bfe-40db-a040-806bde134355",
   "metadata": {},
   "outputs": [],
   "source": []
  }
 ],
 "metadata": {
  "kernelspec": {
   "display_name": "Python [conda env:bigdata]",
   "language": "python",
   "name": "conda-env-bigdata-py"
  },
  "language_info": {
   "codemirror_mode": {
    "name": "ipython",
    "version": 3
   },
   "file_extension": ".py",
   "mimetype": "text/x-python",
   "name": "python",
   "nbconvert_exporter": "python",
   "pygments_lexer": "ipython3",
   "version": "3.9.5"
  }
 },
 "nbformat": 4,
 "nbformat_minor": 5
}
